{
 "cells": [
  {
   "cell_type": "markdown",
   "id": "b94edf16",
   "metadata": {},
   "source": [
    "# Question 2 "
   ]
  },
  {
   "cell_type": "markdown",
   "id": "e26e8aaa",
   "metadata": {},
   "source": [
    "# IPL Score Prediction using Deep Learning"
   ]
  },
  {
   "cell_type": "markdown",
   "id": "bd7e7557",
   "metadata": {},
   "source": [
    "Deep learning is utilized for IPL score prediction because humans struggle to discern patterns in extensive datasets. Machine learning and deep learning algorithms analyze player and team performance history to predict outcomes accurately. Unlike traditional methods, deep learning models consider multiple factors, leading to more precise IPL score predictions."
   ]
  },
  {
   "cell_type": "markdown",
   "id": "0db97e1e",
   "metadata": {},
   "source": [
    "The dataset contains data from the year 2008 to 2017. The dataset can be downloaded from here. The dataset contain features like venue, date, batting and bowling team, names of batsman and bowler, wickets and more."
   ]
  },
  {
   "cell_type": "markdown",
   "id": "47076663",
   "metadata": {},
   "source": [
    "## Import Necessaey Libraries"
   ]
  },
  {
   "cell_type": "code",
   "execution_count": 1,
   "id": "7a647464",
   "metadata": {},
   "outputs": [],
   "source": [
    "import pandas as pd\n",
    "import numpy as np\n",
    "import matplotlib.pyplot as plt\n",
    "import seaborn as sns\n",
    "from sklearn import preprocessing\n",
    "import keras \n",
    "import tensorflow as tf "
   ]
  },
  {
   "cell_type": "markdown",
   "id": "4c6c1ae9",
   "metadata": {},
   "source": [
    "## Loading the Dataset"
   ]
  },
  {
   "cell_type": "code",
   "execution_count": 2,
   "id": "d036d9fa",
   "metadata": {
    "scrolled": true
   },
   "outputs": [
    {
     "data": {
      "text/html": [
       "<div>\n",
       "<style scoped>\n",
       "    .dataframe tbody tr th:only-of-type {\n",
       "        vertical-align: middle;\n",
       "    }\n",
       "\n",
       "    .dataframe tbody tr th {\n",
       "        vertical-align: top;\n",
       "    }\n",
       "\n",
       "    .dataframe thead th {\n",
       "        text-align: right;\n",
       "    }\n",
       "</style>\n",
       "<table border=\"1\" class=\"dataframe\">\n",
       "  <thead>\n",
       "    <tr style=\"text-align: right;\">\n",
       "      <th></th>\n",
       "      <th>mid</th>\n",
       "      <th>date</th>\n",
       "      <th>venue</th>\n",
       "      <th>bat_team</th>\n",
       "      <th>bowl_team</th>\n",
       "      <th>batsman</th>\n",
       "      <th>bowler</th>\n",
       "      <th>runs</th>\n",
       "      <th>wickets</th>\n",
       "      <th>overs</th>\n",
       "      <th>runs_last_5</th>\n",
       "      <th>wickets_last_5</th>\n",
       "      <th>striker</th>\n",
       "      <th>non-striker</th>\n",
       "      <th>total</th>\n",
       "    </tr>\n",
       "  </thead>\n",
       "  <tbody>\n",
       "    <tr>\n",
       "      <th>0</th>\n",
       "      <td>1</td>\n",
       "      <td>2008-04-18</td>\n",
       "      <td>M Chinnaswamy Stadium</td>\n",
       "      <td>Kolkata Knight Riders</td>\n",
       "      <td>Royal Challengers Bangalore</td>\n",
       "      <td>SC Ganguly</td>\n",
       "      <td>P Kumar</td>\n",
       "      <td>1</td>\n",
       "      <td>0</td>\n",
       "      <td>0.1</td>\n",
       "      <td>1</td>\n",
       "      <td>0</td>\n",
       "      <td>0</td>\n",
       "      <td>0</td>\n",
       "      <td>222</td>\n",
       "    </tr>\n",
       "    <tr>\n",
       "      <th>1</th>\n",
       "      <td>1</td>\n",
       "      <td>2008-04-18</td>\n",
       "      <td>M Chinnaswamy Stadium</td>\n",
       "      <td>Kolkata Knight Riders</td>\n",
       "      <td>Royal Challengers Bangalore</td>\n",
       "      <td>BB McCullum</td>\n",
       "      <td>P Kumar</td>\n",
       "      <td>1</td>\n",
       "      <td>0</td>\n",
       "      <td>0.2</td>\n",
       "      <td>1</td>\n",
       "      <td>0</td>\n",
       "      <td>0</td>\n",
       "      <td>0</td>\n",
       "      <td>222</td>\n",
       "    </tr>\n",
       "    <tr>\n",
       "      <th>2</th>\n",
       "      <td>1</td>\n",
       "      <td>2008-04-18</td>\n",
       "      <td>M Chinnaswamy Stadium</td>\n",
       "      <td>Kolkata Knight Riders</td>\n",
       "      <td>Royal Challengers Bangalore</td>\n",
       "      <td>BB McCullum</td>\n",
       "      <td>P Kumar</td>\n",
       "      <td>2</td>\n",
       "      <td>0</td>\n",
       "      <td>0.2</td>\n",
       "      <td>2</td>\n",
       "      <td>0</td>\n",
       "      <td>0</td>\n",
       "      <td>0</td>\n",
       "      <td>222</td>\n",
       "    </tr>\n",
       "    <tr>\n",
       "      <th>3</th>\n",
       "      <td>1</td>\n",
       "      <td>2008-04-18</td>\n",
       "      <td>M Chinnaswamy Stadium</td>\n",
       "      <td>Kolkata Knight Riders</td>\n",
       "      <td>Royal Challengers Bangalore</td>\n",
       "      <td>BB McCullum</td>\n",
       "      <td>P Kumar</td>\n",
       "      <td>2</td>\n",
       "      <td>0</td>\n",
       "      <td>0.3</td>\n",
       "      <td>2</td>\n",
       "      <td>0</td>\n",
       "      <td>0</td>\n",
       "      <td>0</td>\n",
       "      <td>222</td>\n",
       "    </tr>\n",
       "    <tr>\n",
       "      <th>4</th>\n",
       "      <td>1</td>\n",
       "      <td>2008-04-18</td>\n",
       "      <td>M Chinnaswamy Stadium</td>\n",
       "      <td>Kolkata Knight Riders</td>\n",
       "      <td>Royal Challengers Bangalore</td>\n",
       "      <td>BB McCullum</td>\n",
       "      <td>P Kumar</td>\n",
       "      <td>2</td>\n",
       "      <td>0</td>\n",
       "      <td>0.4</td>\n",
       "      <td>2</td>\n",
       "      <td>0</td>\n",
       "      <td>0</td>\n",
       "      <td>0</td>\n",
       "      <td>222</td>\n",
       "    </tr>\n",
       "  </tbody>\n",
       "</table>\n",
       "</div>"
      ],
      "text/plain": [
       "   mid       date                  venue               bat_team  \\\n",
       "0    1 2008-04-18  M Chinnaswamy Stadium  Kolkata Knight Riders   \n",
       "1    1 2008-04-18  M Chinnaswamy Stadium  Kolkata Knight Riders   \n",
       "2    1 2008-04-18  M Chinnaswamy Stadium  Kolkata Knight Riders   \n",
       "3    1 2008-04-18  M Chinnaswamy Stadium  Kolkata Knight Riders   \n",
       "4    1 2008-04-18  M Chinnaswamy Stadium  Kolkata Knight Riders   \n",
       "\n",
       "                     bowl_team      batsman   bowler  runs  wickets  overs  \\\n",
       "0  Royal Challengers Bangalore   SC Ganguly  P Kumar     1        0    0.1   \n",
       "1  Royal Challengers Bangalore  BB McCullum  P Kumar     1        0    0.2   \n",
       "2  Royal Challengers Bangalore  BB McCullum  P Kumar     2        0    0.2   \n",
       "3  Royal Challengers Bangalore  BB McCullum  P Kumar     2        0    0.3   \n",
       "4  Royal Challengers Bangalore  BB McCullum  P Kumar     2        0    0.4   \n",
       "\n",
       "   runs_last_5  wickets_last_5  striker  non-striker  total  \n",
       "0            1               0        0            0    222  \n",
       "1            1               0        0            0    222  \n",
       "2            2               0        0            0    222  \n",
       "3            2               0        0            0    222  \n",
       "4            2               0        0            0    222  "
      ]
     },
     "execution_count": 2,
     "metadata": {},
     "output_type": "execute_result"
    }
   ],
   "source": [
    "ipl = pd.read_excel(\"Question 2 Data Set.xlsm\")\n",
    "ipl.head()"
   ]
  },
  {
   "cell_type": "markdown",
   "id": "1f4e688b",
   "metadata": {},
   "source": [
    "# Data Pre-processing\n"
   ]
  },
  {
   "cell_type": "markdown",
   "id": "d1bc43ca",
   "metadata": {},
   "source": [
    "## Dropping unimportant features"
   ]
  },
  {
   "cell_type": "code",
   "execution_count": 3,
   "id": "bb97032d",
   "metadata": {},
   "outputs": [],
   "source": [
    "#Dropping certain features \n",
    "df = ipl.drop(['date', 'runs', 'wickets', 'overs', 'runs_last_5', 'wickets_last_5','mid', 'striker', 'non-striker'], axis =1)\n"
   ]
  },
  {
   "cell_type": "markdown",
   "id": "c7328ada",
   "metadata": {},
   "source": [
    "## Further Pre-Processing"
   ]
  },
  {
   "cell_type": "code",
   "execution_count": 4,
   "id": "aecb8ea3",
   "metadata": {},
   "outputs": [],
   "source": [
    "X = df.drop(['total'], axis =1)\n",
    "y = df['total']\n"
   ]
  },
  {
   "cell_type": "markdown",
   "id": "ae57e46e",
   "metadata": {},
   "source": [
    "## Label Encoding"
   ]
  },
  {
   "cell_type": "code",
   "execution_count": 5,
   "id": "d190f3d1",
   "metadata": {},
   "outputs": [],
   "source": [
    "#Label Encoding\n",
    "\n",
    "from sklearn.preprocessing import LabelEncoder\n",
    "\n",
    "# Create a LabelEncoder object for each categorical feature\n",
    "venue_encoder = LabelEncoder()\n",
    "batting_team_encoder = LabelEncoder()\n",
    "bowling_team_encoder = LabelEncoder()\n",
    "striker_encoder = LabelEncoder()\n",
    "bowler_encoder = LabelEncoder()\n",
    "\n",
    "# Fit and transform the categorical features with label encoding\n",
    "X['venue'] = venue_encoder.fit_transform(X['venue'])\n",
    "X['bat_team'] = batting_team_encoder.fit_transform(X['bat_team'])\n",
    "X['bowl_team'] = bowling_team_encoder.fit_transform(X['bowl_team'])\n",
    "X['batsman'] = striker_encoder.fit_transform(X['batsman'])\n",
    "X['bowler'] = bowler_encoder.fit_transform(X['bowler'])\n"
   ]
  },
  {
   "cell_type": "markdown",
   "id": "12799125",
   "metadata": {},
   "source": [
    "## Splitting the Dataset into Test and Train Sets"
   ]
  },
  {
   "cell_type": "code",
   "execution_count": 6,
   "id": "c58d62a6",
   "metadata": {},
   "outputs": [],
   "source": [
    "# Train test Split \n",
    "from sklearn.model_selection import train_test_split\n",
    "X_train, X_test, y_train, y_test = train_test_split(X, y, test_size=0.3, random_state=42)\n"
   ]
  },
  {
   "cell_type": "markdown",
   "id": "6c9f590a",
   "metadata": {},
   "source": [
    "## Feature Scaling"
   ]
  },
  {
   "cell_type": "code",
   "execution_count": 7,
   "id": "b2893741",
   "metadata": {},
   "outputs": [],
   "source": [
    "from sklearn.preprocessing import MinMaxScaler\n",
    "\n",
    "scaler = MinMaxScaler()\n",
    "\n",
    "# Fit the scaler on the training data and transform both training and testing data\n",
    "X_train_scaled = scaler.fit_transform(X_train)\n",
    "X_test_scaled = scaler.transform(X_test)\n"
   ]
  },
  {
   "cell_type": "markdown",
   "id": "455932bb",
   "metadata": {},
   "source": [
    "## Implement Neural Network"
   ]
  },
  {
   "cell_type": "code",
   "execution_count": 8,
   "id": "eadf649c",
   "metadata": {},
   "outputs": [],
   "source": [
    "# Define the neural network model\n",
    "model = keras.Sequential([\n",
    "    keras.layers.Input( shape=(X_train_scaled.shape[1],)),  # Input layer\n",
    "    keras.layers.Dense(512, activation='relu'),  # Hidden layer with 512 units and ReLU activation\n",
    "    keras.layers.Dense(216, activation='relu'),  # Hidden layer with 216 units and ReLU activation\n",
    "    keras.layers.Dense(1, activation='linear')  # Output layer with linear activation for regression\n",
    "])\n",
    "\n",
    "# Compile the model with Huber loss\n",
    "huber_loss = tf.keras.losses.Huber(delta=1.0)  # You can adjust the 'delta' parameter as needed\n",
    "model.compile(optimizer='adam', loss=huber_loss)  # Use Huber loss for regression\n"
   ]
  },
  {
   "cell_type": "markdown",
   "id": "a16d5353",
   "metadata": {},
   "source": [
    "## Model Training"
   ]
  },
  {
   "cell_type": "code",
   "execution_count": 9,
   "id": "8be6ec29",
   "metadata": {},
   "outputs": [
    {
     "name": "stdout",
     "output_type": "stream",
     "text": [
      "Epoch 1/50\n",
      "832/832 [==============================] - 6s 6ms/step - loss: 32.1002 - val_loss: 22.1021\n",
      "Epoch 2/50\n",
      "832/832 [==============================] - 4s 5ms/step - loss: 22.3895 - val_loss: 22.0189\n",
      "Epoch 3/50\n",
      "832/832 [==============================] - 4s 5ms/step - loss: 22.2642 - val_loss: 22.2131\n",
      "Epoch 4/50\n",
      "832/832 [==============================] - 4s 5ms/step - loss: 22.2735 - val_loss: 21.9095\n",
      "Epoch 5/50\n",
      "832/832 [==============================] - 4s 5ms/step - loss: 22.2158 - val_loss: 21.8856\n",
      "Epoch 6/50\n",
      "832/832 [==============================] - 4s 5ms/step - loss: 22.1746 - val_loss: 21.8648\n",
      "Epoch 7/50\n",
      "832/832 [==============================] - 4s 5ms/step - loss: 22.1658 - val_loss: 22.0678\n",
      "Epoch 8/50\n",
      "832/832 [==============================] - 4s 5ms/step - loss: 22.1676 - val_loss: 21.8188\n",
      "Epoch 9/50\n",
      "832/832 [==============================] - 4s 5ms/step - loss: 22.1469 - val_loss: 22.0892\n",
      "Epoch 10/50\n",
      "832/832 [==============================] - 4s 5ms/step - loss: 22.1317 - val_loss: 22.9507\n",
      "Epoch 11/50\n",
      "832/832 [==============================] - 4s 5ms/step - loss: 22.1230 - val_loss: 22.0383\n",
      "Epoch 12/50\n",
      "832/832 [==============================] - 4s 5ms/step - loss: 22.1400 - val_loss: 21.8001\n",
      "Epoch 13/50\n",
      "832/832 [==============================] - 4s 5ms/step - loss: 22.0552 - val_loss: 21.9342\n",
      "Epoch 14/50\n",
      "832/832 [==============================] - 5s 6ms/step - loss: 22.0640 - val_loss: 22.0694\n",
      "Epoch 15/50\n",
      "832/832 [==============================] - 5s 6ms/step - loss: 22.0918 - val_loss: 21.7397\n",
      "Epoch 16/50\n",
      "832/832 [==============================] - 4s 5ms/step - loss: 22.0463 - val_loss: 21.6646\n",
      "Epoch 17/50\n",
      "832/832 [==============================] - 4s 5ms/step - loss: 21.8949 - val_loss: 21.5646\n",
      "Epoch 18/50\n",
      "832/832 [==============================] - 5s 6ms/step - loss: 21.8580 - val_loss: 21.4994\n",
      "Epoch 19/50\n",
      "832/832 [==============================] - 5s 6ms/step - loss: 21.7810 - val_loss: 21.9346\n",
      "Epoch 20/50\n",
      "832/832 [==============================] - 4s 5ms/step - loss: 21.7289 - val_loss: 21.9568\n",
      "Epoch 21/50\n",
      "832/832 [==============================] - 4s 5ms/step - loss: 21.6781 - val_loss: 21.3840\n",
      "Epoch 22/50\n",
      "832/832 [==============================] - 4s 5ms/step - loss: 21.6486 - val_loss: 21.3866\n",
      "Epoch 23/50\n",
      "832/832 [==============================] - 4s 5ms/step - loss: 21.6195 - val_loss: 21.3016\n",
      "Epoch 24/50\n",
      "832/832 [==============================] - 4s 5ms/step - loss: 21.6088 - val_loss: 21.3105\n",
      "Epoch 25/50\n",
      "832/832 [==============================] - 4s 5ms/step - loss: 21.5154 - val_loss: 21.2221\n",
      "Epoch 26/50\n",
      "832/832 [==============================] - 4s 5ms/step - loss: 21.4802 - val_loss: 21.1063\n",
      "Epoch 27/50\n",
      "832/832 [==============================] - 5s 6ms/step - loss: 21.3615 - val_loss: 21.0641\n",
      "Epoch 28/50\n",
      "832/832 [==============================] - 5s 6ms/step - loss: 21.3411 - val_loss: 21.0005\n",
      "Epoch 29/50\n",
      "832/832 [==============================] - 5s 6ms/step - loss: 21.2710 - val_loss: 20.9708\n",
      "Epoch 30/50\n",
      "832/832 [==============================] - 4s 5ms/step - loss: 21.1733 - val_loss: 20.8935\n",
      "Epoch 31/50\n",
      "832/832 [==============================] - 4s 5ms/step - loss: 21.1348 - val_loss: 22.7671\n",
      "Epoch 32/50\n",
      "832/832 [==============================] - 4s 5ms/step - loss: 21.0515 - val_loss: 20.8540\n",
      "Epoch 33/50\n",
      "832/832 [==============================] - 5s 6ms/step - loss: 20.9564 - val_loss: 20.6514\n",
      "Epoch 34/50\n",
      "832/832 [==============================] - 5s 6ms/step - loss: 20.9002 - val_loss: 21.2435\n",
      "Epoch 35/50\n",
      "832/832 [==============================] - 5s 6ms/step - loss: 20.7367 - val_loss: 20.4596\n",
      "Epoch 36/50\n",
      "832/832 [==============================] - 5s 6ms/step - loss: 20.6926 - val_loss: 20.3707\n",
      "Epoch 37/50\n",
      "832/832 [==============================] - 4s 5ms/step - loss: 20.5634 - val_loss: 20.2532\n",
      "Epoch 38/50\n",
      "832/832 [==============================] - 5s 6ms/step - loss: 20.4671 - val_loss: 20.3593\n",
      "Epoch 39/50\n",
      "832/832 [==============================] - 5s 6ms/step - loss: 20.3726 - val_loss: 20.2947\n",
      "Epoch 40/50\n",
      "832/832 [==============================] - 5s 6ms/step - loss: 20.2389 - val_loss: 19.9357\n",
      "Epoch 41/50\n",
      "832/832 [==============================] - 4s 5ms/step - loss: 20.1546 - val_loss: 19.9610\n",
      "Epoch 42/50\n",
      "832/832 [==============================] - 4s 5ms/step - loss: 20.0033 - val_loss: 19.9428\n",
      "Epoch 43/50\n",
      "832/832 [==============================] - 5s 6ms/step - loss: 19.8907 - val_loss: 19.6580\n",
      "Epoch 44/50\n",
      "832/832 [==============================] - 4s 5ms/step - loss: 19.7793 - val_loss: 19.5539\n",
      "Epoch 45/50\n",
      "832/832 [==============================] - 4s 5ms/step - loss: 19.6530 - val_loss: 19.3225\n",
      "Epoch 46/50\n",
      "832/832 [==============================] - 4s 5ms/step - loss: 19.5380 - val_loss: 19.3716\n",
      "Epoch 47/50\n",
      "832/832 [==============================] - 5s 5ms/step - loss: 19.4501 - val_loss: 19.2685\n",
      "Epoch 48/50\n",
      "832/832 [==============================] - 5s 6ms/step - loss: 19.3717 - val_loss: 19.4405\n",
      "Epoch 49/50\n",
      "832/832 [==============================] - 5s 6ms/step - loss: 19.2738 - val_loss: 19.1202\n",
      "Epoch 50/50\n",
      "832/832 [==============================] - 4s 5ms/step - loss: 19.1971 - val_loss: 18.8748\n"
     ]
    },
    {
     "data": {
      "text/plain": [
       "<keras.src.callbacks.History at 0x1d428e74460>"
      ]
     },
     "execution_count": 9,
     "metadata": {},
     "output_type": "execute_result"
    }
   ],
   "source": [
    "# Train the model\n",
    "model.fit(X_train_scaled, y_train, epochs=50, batch_size=64, validation_data=(X_test_scaled, y_test))\n"
   ]
  },
  {
   "cell_type": "markdown",
   "id": "6f8dbdc1",
   "metadata": {},
   "source": [
    "## Plotting the model performance"
   ]
  },
  {
   "cell_type": "code",
   "execution_count": 10,
   "id": "766efad0",
   "metadata": {},
   "outputs": [
    {
     "data": {
      "text/plain": [
       "<Axes: >"
      ]
     },
     "execution_count": 10,
     "metadata": {},
     "output_type": "execute_result"
    },
    {
     "data": {
      "image/png": "[encoded data removed]",
      "text/plain": [
       "<Figure size 432x288 with 1 Axes>"
      ]
     },
     "metadata": {
      "needs_background": "light"
     },
     "output_type": "display_data"
    }
   ],
   "source": [
    "model_losses = pd.DataFrame(model.history.history)\n",
    "model_losses.plot()"
   ]
  },
  {
   "cell_type": "markdown",
   "id": "8ef803b2",
   "metadata": {},
   "source": [
    "## Model Evaluation"
   ]
  },
  {
   "cell_type": "code",
   "execution_count": 12,
   "id": "3038662e",
   "metadata": {},
   "outputs": [
    {
     "name": "stdout",
     "output_type": "stream",
     "text": [
      "713/713 [==============================] - 1s 2ms/step\n"
     ]
    },
    {
     "data": {
      "text/plain": [
       "19.36553429066416"
      ]
     },
     "execution_count": 12,
     "metadata": {},
     "output_type": "execute_result"
    }
   ],
   "source": [
    "# Make predictions\n",
    "predictions = model.predict(X_test_scaled)\n",
    "\n",
    "from sklearn.metrics import mean_absolute_error,mean_squared_error\n",
    "mean_absolute_error(y_test,predictions)\n"
   ]
  },
  {
   "cell_type": "markdown",
   "id": "40c79369",
   "metadata": {},
   "source": [
    "## Creating Cricket Score Prediction Widget with Dropdowns & Button"
   ]
  },
  {
   "cell_type": "code",
   "execution_count": 13,
   "id": "70316c76",
   "metadata": {},
   "outputs": [],
   "source": [
    "import ipywidgets as widgets\n",
    "from IPython.display import display, clear_output\n",
    "\n",
    "import warnings\n",
    "warnings.filterwarnings(\"ignore\")\n",
    "\n",
    "venue = widgets.Dropdown(options=df['venue'].unique().tolist(),description='Select Venue:')\n",
    "batting_team = widgets.Dropdown(options =df['bat_team'].unique().tolist(),  description='Select Batting Team:')\n",
    "bowling_team = widgets.Dropdown(options=df['bowl_team'].unique().tolist(),  description='Select Bowling Team:')\n",
    "striker = widgets.Dropdown(options=df['batsman'].unique().tolist(), description='Select Striker:')\n",
    "bowler = widgets.Dropdown(options=df['bowler'].unique().tolist(), description='Select Bowler:')\n",
    "\n",
    "predict_button = widgets.Button(description=\"Predict Score\")\n",
    "\n",
    "def predict_score(b):\n",
    "    with output:\n",
    "        clear_output()  # Clear the previous output\n",
    "        \n",
    "\n",
    "        # Decode the encoded values back to their original values\n",
    "        decoded_venue = venue_encoder.transform([venue.value])\n",
    "        decoded_batting_team = batting_team_encoder.transform([batting_team.value])\n",
    "        decoded_bowling_team = bowling_team_encoder.transform([bowling_team.value])\n",
    "        decoded_striker = striker_encoder.transform([striker.value])\n",
    "        decoded_bowler = bowler_encoder.transform([bowler.value])\n",
    "\n",
    "\n",
    "        input = np.array([decoded_venue,  decoded_batting_team, decoded_bowling_team,decoded_striker, decoded_bowler])\n",
    "        input = input.reshape(1,5)\n",
    "        input = scaler.transform(input)\n",
    "        #print(input)\n",
    "        predicted_score = model.predict(input)\n",
    "        predicted_score = int(predicted_score[0,0])\n",
    "        print(predicted_score)"
   ]
  },
  {
   "cell_type": "markdown",
   "id": "bfe149f7",
   "metadata": {},
   "source": [
    "## Display Cricket Score Prediction Interface with Output"
   ]
  },
  {
   "cell_type": "code",
   "execution_count": 14,
   "id": "4e4e6b63",
   "metadata": {
    "scrolled": true
   },
   "outputs": [
    {
     "data": {
      "application/vnd.jupyter.widget-view+json": {
       "model_id": "7f3dd87e83be4f1f8f0003dc73d002de",
       "version_major": 2,
       "version_minor": 0
      },
      "text/plain": [
       "Dropdown(description='Select Venue:', options=('M Chinnaswamy Stadium', 'Punjab Cricket Association Stadium, M…"
      ]
     },
     "metadata": {},
     "output_type": "display_data"
    },
    {
     "data": {
      "application/vnd.jupyter.widget-view+json": {
       "model_id": "89e08b8da5cd42dfa097c3a6f81cf1ea",
       "version_major": 2,
       "version_minor": 0
      },
      "text/plain": [
       "Dropdown(description='Select Batting Team:', options=('Kolkata Knight Riders', 'Chennai Super Kings', 'Rajasth…"
      ]
     },
     "metadata": {},
     "output_type": "display_data"
    },
    {
     "data": {
      "application/vnd.jupyter.widget-view+json": {
       "model_id": "3a9954a13f9c483cba1d859053b313df",
       "version_major": 2,
       "version_minor": 0
      },
      "text/plain": [
       "Dropdown(description='Select Bowling Team:', options=('Royal Challengers Bangalore', 'Kings XI Punjab', 'Delhi…"
      ]
     },
     "metadata": {},
     "output_type": "display_data"
    },
    {
     "data": {
      "application/vnd.jupyter.widget-view+json": {
       "model_id": "f8d9cf7f33734273856331a880e67004",
       "version_major": 2,
       "version_minor": 0
      },
      "text/plain": [
       "Dropdown(description='Select Striker:', options=('SC Ganguly', 'BB McCullum', 'RT Ponting', 'DJ Hussey', 'Moha…"
      ]
     },
     "metadata": {},
     "output_type": "display_data"
    },
    {
     "data": {
      "application/vnd.jupyter.widget-view+json": {
       "model_id": "2af7da6804034701b0de6be97bfd707a",
       "version_major": 2,
       "version_minor": 0
      },
      "text/plain": [
       "Dropdown(description='Select Bowler:', options=('P Kumar', 'Z Khan', 'AA Noffke', 'JH Kallis', 'SB Joshi', 'CL…"
      ]
     },
     "metadata": {},
     "output_type": "display_data"
    },
    {
     "data": {
      "application/vnd.jupyter.widget-view+json": {
       "model_id": "0b7dede86d9a4ef4b884ab413ad9eb5e",
       "version_major": 2,
       "version_minor": 0
      },
      "text/plain": [
       "Button(description='Predict Score', style=ButtonStyle())"
      ]
     },
     "metadata": {},
     "output_type": "display_data"
    },
    {
     "data": {
      "application/vnd.jupyter.widget-view+json": {
       "model_id": "6f4dc1c2e212423484ea66c4df5a7db6",
       "version_major": 2,
       "version_minor": 0
      },
      "text/plain": [
       "Output()"
      ]
     },
     "metadata": {},
     "output_type": "display_data"
    }
   ],
   "source": [
    "predict_button.on_click(predict_score)\n",
    "output = widgets.Output()\n",
    "display(venue, batting_team, bowling_team, striker, bowler, predict_button, output)"
   ]
  }
 ],
 "metadata": {
  "kernelspec": {
   "display_name": "Python 3 (ipykernel)",
   "language": "python",
   "name": "python3"
  },
  "language_info": {
   "codemirror_mode": {
    "name": "ipython",
    "version": 3
   },
   "file_extension": ".py",
   "mimetype": "text/x-python",
   "name": "python",
   "nbconvert_exporter": "python",
   "pygments_lexer": "ipython3",
   "version": "3.9.13"
  }
 },
 "nbformat": 4,
 "nbformat_minor": 5
}
